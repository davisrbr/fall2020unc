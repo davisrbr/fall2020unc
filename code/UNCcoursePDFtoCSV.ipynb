{
 "cells": [
  {
   "cell_type": "code",
   "execution_count": 1,
   "metadata": {},
   "outputs": [
    {
     "data": {
      "text/plain": [
       "'/Users/davisbrown/Desktop/SideProjects/UNCovid'"
      ]
     },
     "execution_count": 1,
     "metadata": {},
     "output_type": "execute_result"
    }
   ],
   "source": [
    "from pdfreader import PDFDocument, SimplePDFViewer\n",
    "import csv\n",
    "import numpy as np\n",
    "import os\n",
    "os.getcwd()"
   ]
  },
  {
   "cell_type": "code",
   "execution_count": 3,
   "metadata": {},
   "outputs": [
    {
     "name": "stdout",
     "output_type": "stream",
     "text": [
      "reached final page (hopefully)\n"
     ]
    }
   ],
   "source": [
    "subj_flag1, subj_flag2, nmbr_flag, Bldg_flag, Room_flag, Days_flag, Time_flag, class_tot_flag = np.zeros(8)\n",
    "file_name = 'UNCcoursesFall19.pdf'\n",
    "fd = open(file_name, \"rb\")\n",
    "viewer = SimplePDFViewer(fd)\n",
    "\n",
    "loop = 1 #sheesh this is bad code\n",
    "\n",
    "\n",
    "# bad code but it works!\n",
    "markdown = viewer.canvas.text_content\n",
    "with open('UNCfall19courses.csv', mode='a') as class_totals:\n",
    "    writer = csv.writer(class_totals, delimiter=',',quotechar='\"', quoting=csv.QUOTE_MINIMAL)\n",
    "    writer.writerow(['Bldg:', 'Room:', 'Days:', 'Time:', 'Class Enrl Tot:'])\n",
    "        \n",
    "    while loop:\n",
    "        try:\n",
    "            viewer.next()\n",
    "            viewer.render()\n",
    "        except:\n",
    "            loop = 0\n",
    "            print('reached final page (hopefully)')\n",
    "\n",
    "        for line in viewer.canvas.strings:\n",
    "            if line == '____________________________________________________________________________________________________________________________________________________________':\n",
    "                subj_flag1 = 1\n",
    "            elif line == ' ':\n",
    "                subj_flag2=1\n",
    "            elif subj_flag1 and subj_flag2:\n",
    "                subj_flag1, subj_flag2 = 0, 0\n",
    "                text = str(line)\n",
    "                if text[:6] != 'Report':\n",
    "                    subj = text\n",
    "                # subj.strip(' ,') -> this didn't work so I used :%s/^ ,/ in vim\n",
    "                    nmbr_flag = 1\n",
    "            elif nmbr_flag:\n",
    "                course_nmbr = str(line)\n",
    "                nmbr_flag = 0\n",
    "            elif line == 'Bldg:':\n",
    "                Bldg_flag = 1\n",
    "            elif Bldg_flag:\n",
    "                bldg = str(line)\n",
    "                Bldg_flag = 0\n",
    "            elif line == 'Room:':\n",
    "                Room_flag = 1\n",
    "            elif Room_flag:\n",
    "                room = str(line)\n",
    "                Room_flag = 0\n",
    "            elif line == 'Days:':\n",
    "                Days_flag = 1\n",
    "            elif Days_flag:\n",
    "                days = str(line)\n",
    "                Days_flag = 0\n",
    "            elif line == 'Time:':\n",
    "                Time_flag=1\n",
    "            elif Time_flag:\n",
    "                time = str(line)\n",
    "                Time_flag=0\n",
    "            elif line == 'Class Enrl Tot:':\n",
    "                class_tot_flag=1\n",
    "            elif class_tot_flag:\n",
    "                class_tot=str(line)\n",
    "                writer.writerow([subj, course_nmbr, bldg, room, days, time, class_tot])\n",
    "                class_tot_flag = 0"
   ]
  }
 ],
 "metadata": {
  "kernelspec": {
   "display_name": "Python 3",
   "language": "python",
   "name": "python3"
  },
  "language_info": {
   "codemirror_mode": {
    "name": "ipython",
    "version": 3
   },
   "file_extension": ".py",
   "mimetype": "text/x-python",
   "name": "python",
   "nbconvert_exporter": "python",
   "pygments_lexer": "ipython3",
   "version": "3.8.3"
  }
 },
 "nbformat": 4,
 "nbformat_minor": 4
}
