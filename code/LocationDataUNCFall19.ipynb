{
 "cells": [
  {
   "cell_type": "markdown",
   "metadata": {},
   "source": [
    "**First, pull in the CSV I scraped from the UNC-CH course registrar pdf.**"
   ]
  },
  {
   "cell_type": "code",
   "execution_count": 1,
   "metadata": {},
   "outputs": [],
   "source": [
    "import pandas as pd\n",
    "import numpy as np\n",
    "import matplotlib.pyplot as plt"
   ]
  },
  {
   "cell_type": "code",
   "execution_count": 2,
   "metadata": {},
   "outputs": [],
   "source": [
    "fall19_courses = pd.read_csv(\"UNCfall19courses.csv\")\n",
    "\n",
    "df = fall19_courses[\"Time:\"].str.split(r'[:,-]', expand=True)\n",
    "df_start = (df[0] + df[1])\n",
    "df_end =  (df[2] + df[3])\n",
    "\n",
    "\n",
    "fall19_courses[\"start_time\"] = df_start\n",
    "fall19_courses[\"end_time\"] = df_end\n",
    "\n",
    "fall19_courses = fall19_courses.dropna(subset=['start_time'])\n",
    "fall19_courses = fall19_courses.dropna(subset=['end_time'])\n",
    "fall19_courses[\"start_time\"] = fall19_courses[\"start_time\"].astype(int)\n",
    "fall19_courses[\"end_time\"] = fall19_courses[\"end_time\"].astype(int)\n",
    "\n",
    "####### working with datetime\n",
    "# fall19_courses[\"start_time\"] = pd.to_datetime(fall19_courses[\"start_time\"].astype(int), format=\"%H%M\")\n",
    "# fall19_courses[\"end_time\"] = pd.to_datetime(fall19_courses[\"end_time\"].astype(int), format=\"%H%M\")"
   ]
  },
  {
   "cell_type": "code",
   "execution_count": 3,
   "metadata": {},
   "outputs": [
    {
     "data": {
      "text/html": [
       "<div>\n",
       "<style scoped>\n",
       "    .dataframe tbody tr th:only-of-type {\n",
       "        vertical-align: middle;\n",
       "    }\n",
       "\n",
       "    .dataframe tbody tr th {\n",
       "        vertical-align: top;\n",
       "    }\n",
       "\n",
       "    .dataframe thead th {\n",
       "        text-align: right;\n",
       "    }\n",
       "</style>\n",
       "<table border=\"1\" class=\"dataframe\">\n",
       "  <thead>\n",
       "    <tr style=\"text-align: right;\">\n",
       "      <th></th>\n",
       "      <th></th>\n",
       "      <th>Bldg:</th>\n",
       "      <th>Room:</th>\n",
       "      <th>Days:</th>\n",
       "      <th>Time:</th>\n",
       "      <th>Class Enrl Tot:</th>\n",
       "      <th>start_time</th>\n",
       "      <th>end_time</th>\n",
       "    </tr>\n",
       "  </thead>\n",
       "  <tbody>\n",
       "    <tr>\n",
       "      <th rowspan=\"5\" valign=\"top\">AAAD</th>\n",
       "      <th>130</th>\n",
       "      <td>Gardner</td>\n",
       "      <td>0308</td>\n",
       "      <td>TuTh</td>\n",
       "      <td>12:30 - 13:45</td>\n",
       "      <td>43</td>\n",
       "      <td>1230</td>\n",
       "      <td>1345</td>\n",
       "    </tr>\n",
       "    <tr>\n",
       "      <th>130</th>\n",
       "      <td>Phillips</td>\n",
       "      <td>0247</td>\n",
       "      <td>TuTh</td>\n",
       "      <td>09:30 - 10:45</td>\n",
       "      <td>42</td>\n",
       "      <td>930</td>\n",
       "      <td>1045</td>\n",
       "    </tr>\n",
       "    <tr>\n",
       "      <th>130</th>\n",
       "      <td>Peabody</td>\n",
       "      <td>0311</td>\n",
       "      <td>TuTh</td>\n",
       "      <td>14:00 - 15:15</td>\n",
       "      <td>43</td>\n",
       "      <td>1400</td>\n",
       "      <td>1515</td>\n",
       "    </tr>\n",
       "    <tr>\n",
       "      <th>200</th>\n",
       "      <td>Peabody</td>\n",
       "      <td>0306</td>\n",
       "      <td>TuTh</td>\n",
       "      <td>14:00 - 15:15</td>\n",
       "      <td>36</td>\n",
       "      <td>1400</td>\n",
       "      <td>1515</td>\n",
       "    </tr>\n",
       "    <tr>\n",
       "      <th>201</th>\n",
       "      <td>Carolina Hall</td>\n",
       "      <td>0220</td>\n",
       "      <td>MWF</td>\n",
       "      <td>08:00 - 08:50</td>\n",
       "      <td>32</td>\n",
       "      <td>800</td>\n",
       "      <td>850</td>\n",
       "    </tr>\n",
       "  </tbody>\n",
       "</table>\n",
       "</div>"
      ],
      "text/plain": [
       "                   Bldg: Room: Days:          Time:  Class Enrl Tot:  \\\n",
       "AAAD  130        Gardner  0308  TuTh  12:30 - 13:45               43   \n",
       "      130       Phillips  0247  TuTh  09:30 - 10:45               42   \n",
       "      130        Peabody  0311  TuTh  14:00 - 15:15               43   \n",
       "      200        Peabody  0306  TuTh  14:00 - 15:15               36   \n",
       "      201  Carolina Hall  0220   MWF  08:00 - 08:50               32   \n",
       "\n",
       "           start_time  end_time  \n",
       "AAAD  130        1230      1345  \n",
       "      130         930      1045  \n",
       "      130        1400      1515  \n",
       "      200        1400      1515  \n",
       "      201         800       850  "
      ]
     },
     "execution_count": 3,
     "metadata": {},
     "output_type": "execute_result"
    }
   ],
   "source": [
    "fall19_courses = fall19_courses[fall19_courses['Bldg:']!='TBA']\n",
    "fall19_courses = fall19_courses[fall19_courses['Days:']!='TBA']\n",
    "# print(fall19_courses.count())\n",
    "fall19_courses.head()"
   ]
  },
  {
   "cell_type": "markdown",
   "metadata": {},
   "source": [
    "**Optional: remove classes with over 50 or over 100 students.**"
   ]
  },
  {
   "cell_type": "code",
   "execution_count": 4,
   "metadata": {},
   "outputs": [
    {
     "name": "stdout",
     "output_type": "stream",
     "text": [
      "Courses with more than 100 students: 0\n",
      "Courses with more than 50 students: 0\n"
     ]
    }
   ],
   "source": [
    "fall19_courses = fall19_courses[fall19_courses['Class Enrl Tot:'] < 100]\n",
    "fall19_courses = fall19_courses[fall19_courses['Class Enrl Tot:'] < 50]\n",
    "print(f'Courses with more than 100 students: {fall19_courses[fall19_courses[\"Class Enrl Tot:\"] > 99].count()[0]}')\n",
    "print(f'Courses with more than 50 students: {fall19_courses[fall19_courses[\"Class Enrl Tot:\"] > 49].count()[0]}')"
   ]
  },
  {
   "cell_type": "markdown",
   "metadata": {},
   "source": [
    "**Optional: reorganize classes so that they are more distributed throughout the day (i.e. add weeknight classes). Sample between classes between 1100 (11:00) and 1459 (2:59) and, conditional on the classes being less than 1.5 hours, sample 1/4 of these courses, and move the 1100 to 800 and for the others add five hours**\n",
    "\n"
   ]
  },
  {
   "cell_type": "code",
   "execution_count": 5,
   "metadata": {
    "scrolled": true
   },
   "outputs": [],
   "source": [
    "\n",
    "# sample_courses = fall19_courses.loc[fall19_courses['start_time'].isin(samp_times) & \n",
    "#                    (fall19_courses['end_time']-fall19_courses['start_time']<151)]['Room:'].count()\n",
    "\n",
    "\n",
    "# sample_df = fall19_courses[fall19_courses['start_time'].isin(samp_times) & \n",
    "#                    (fall19_courses['end_time']-fall19_courses['start_time']<151)].sample(n=sample_courses//3)\n",
    "\n",
    "########################################################################################\n",
    "\n",
    "# for index, row in fall19_courses.iterrows():\n",
    "#     if 1100 <= row['start_time'] <=1459 and (row['end_time']-row['start_time']<151):\n",
    "#         if np.random.randint(1,5) == 3:\n",
    "#             if row['start_time'] == 1100:\n",
    "#                 fall19_courses.at[index,'start_time'] = row['start_time'] - 300\n",
    "#                 fall19_courses.at[index,'end_time'] = row['end_time'] - 300\n",
    "                \n",
    "#             else:   \n",
    "#                 fall19_courses.at[index,'start_time'] = row['start_time'] + 500\n",
    "#                 fall19_courses.at[index,'end_time'] = row['end_time'] + 500\n",
    "\n",
    "# save to csv\n",
    "# fall19_courses.to_csv('UNCfall19coursesReorg.csv')\n",
    "########################################################################################\n"
   ]
  },
  {
   "cell_type": "markdown",
   "metadata": {},
   "source": [
    "**Make initial summation with a groupby.**\n",
    "\n",
    "Return a random sample of rows from the dataframe to check results."
   ]
  },
  {
   "cell_type": "code",
   "execution_count": 6,
   "metadata": {
    "scrolled": true
   },
   "outputs": [
    {
     "data": {
      "text/html": [
       "<div>\n",
       "<style scoped>\n",
       "    .dataframe tbody tr th:only-of-type {\n",
       "        vertical-align: middle;\n",
       "    }\n",
       "\n",
       "    .dataframe tbody tr th {\n",
       "        vertical-align: top;\n",
       "    }\n",
       "\n",
       "    .dataframe thead th {\n",
       "        text-align: right;\n",
       "    }\n",
       "</style>\n",
       "<table border=\"1\" class=\"dataframe\">\n",
       "  <thead>\n",
       "    <tr style=\"text-align: right;\">\n",
       "      <th></th>\n",
       "      <th>Bldg:</th>\n",
       "      <th>Days:</th>\n",
       "      <th>start_time</th>\n",
       "      <th>end_time</th>\n",
       "      <th>Population</th>\n",
       "    </tr>\n",
       "  </thead>\n",
       "  <tbody>\n",
       "    <tr>\n",
       "      <th>1379</th>\n",
       "      <td>Phillips</td>\n",
       "      <td>F</td>\n",
       "      <td>1430</td>\n",
       "      <td>1520</td>\n",
       "      <td>77</td>\n",
       "    </tr>\n",
       "    <tr>\n",
       "      <th>668</th>\n",
       "      <td>Graham Memorial</td>\n",
       "      <td>Tu</td>\n",
       "      <td>930</td>\n",
       "      <td>1100</td>\n",
       "      <td>6</td>\n",
       "    </tr>\n",
       "    <tr>\n",
       "      <th>412</th>\n",
       "      <td>Dey Hall</td>\n",
       "      <td>MWF</td>\n",
       "      <td>1115</td>\n",
       "      <td>1205</td>\n",
       "      <td>374</td>\n",
       "    </tr>\n",
       "    <tr>\n",
       "      <th>558</th>\n",
       "      <td>Gardner</td>\n",
       "      <td>Tu</td>\n",
       "      <td>800</td>\n",
       "      <td>850</td>\n",
       "      <td>63</td>\n",
       "    </tr>\n",
       "    <tr>\n",
       "      <th>1363</th>\n",
       "      <td>Person</td>\n",
       "      <td>Th</td>\n",
       "      <td>1700</td>\n",
       "      <td>1900</td>\n",
       "      <td>12</td>\n",
       "    </tr>\n",
       "    <tr>\n",
       "      <th>1320</th>\n",
       "      <td>Peabody</td>\n",
       "      <td>Th</td>\n",
       "      <td>1230</td>\n",
       "      <td>1320</td>\n",
       "      <td>46</td>\n",
       "    </tr>\n",
       "    <tr>\n",
       "      <th>1507</th>\n",
       "      <td>Sitterson</td>\n",
       "      <td>MW</td>\n",
       "      <td>1400</td>\n",
       "      <td>1515</td>\n",
       "      <td>13</td>\n",
       "    </tr>\n",
       "    <tr>\n",
       "      <th>1010</th>\n",
       "      <td>McColl Building</td>\n",
       "      <td>Tu</td>\n",
       "      <td>1000</td>\n",
       "      <td>1245</td>\n",
       "      <td>4</td>\n",
       "    </tr>\n",
       "    <tr>\n",
       "      <th>1681</th>\n",
       "      <td>Wilson</td>\n",
       "      <td>MWF</td>\n",
       "      <td>900</td>\n",
       "      <td>950</td>\n",
       "      <td>3</td>\n",
       "    </tr>\n",
       "    <tr>\n",
       "      <th>1756</th>\n",
       "      <td>YMCA Building</td>\n",
       "      <td>TuTh</td>\n",
       "      <td>1105</td>\n",
       "      <td>1155</td>\n",
       "      <td>20</td>\n",
       "    </tr>\n",
       "  </tbody>\n",
       "</table>\n",
       "</div>"
      ],
      "text/plain": [
       "                Bldg: Days:  start_time  end_time  Population\n",
       "1379         Phillips     F        1430      1520          77\n",
       "668   Graham Memorial    Tu         930      1100           6\n",
       "412          Dey Hall   MWF        1115      1205         374\n",
       "558           Gardner    Tu         800       850          63\n",
       "1363           Person    Th        1700      1900          12\n",
       "1320          Peabody    Th        1230      1320          46\n",
       "1507        Sitterson    MW        1400      1515          13\n",
       "1010  McColl Building    Tu        1000      1245           4\n",
       "1681           Wilson   MWF         900       950           3\n",
       "1756    YMCA Building  TuTh        1105      1155          20"
      ]
     },
     "execution_count": 6,
     "metadata": {},
     "output_type": "execute_result"
    }
   ],
   "source": [
    "geodata_fall19 = fall19_courses.groupby(['Bldg:','Days:','start_time','end_time'])['Class Enrl Tot:'].sum().reset_index(name ='Population')\n",
    "\n",
    "# geodata_fall19[geodata_fall19['Bldg:']=='Phillips']\n",
    "\n",
    "geodata_fall19.sample(n=10, random_state=0)\n"
   ]
  },
  {
   "cell_type": "markdown",
   "metadata": {},
   "source": [
    "**We still need to group the rows by days of the week (M, T, W, Th, F) and put into regular time intervals.**"
   ]
  },
  {
   "cell_type": "code",
   "execution_count": 7,
   "metadata": {
    "scrolled": true
   },
   "outputs": [],
   "source": [
    "# organize by day of week into separate day names\n",
    "\n",
    "monday = geodata_fall19[(geodata_fall19['Days:'] == 'M') \n",
    "                        | (geodata_fall19['Days:'] == 'MWF') \n",
    "                        | (geodata_fall19['Days:'] == 'MW')\n",
    "                        | (geodata_fall19['Days:'] == 'MTWTh')\n",
    "                        | (geodata_fall19['Days:'] == 'MTuWThFSaS')\n",
    "                          ].groupby(['Bldg:','Days:','start_time','end_time']).sum().reset_index()\n",
    "\n",
    "tuesday = geodata_fall19[(geodata_fall19['Days:'] == 'Tu') \n",
    "                         | (geodata_fall19['Days:'] == 'TuTh')\n",
    "                         | (geodata_fall19['Days:'] == 'MTWTh')\n",
    "                         | (geodata_fall19['Days:'] == 'MTuWThFSaS')\n",
    "                           ].groupby(['Bldg:','Days:','start_time','end_time']).sum().reset_index()\n",
    "\n",
    "wednesday = geodata_fall19[(geodata_fall19['Days:'] == 'W') \n",
    "                           | (geodata_fall19['Days:'] == 'MWF')\n",
    "                           | (geodata_fall19['Days:'] == 'MW')\n",
    "                           | (geodata_fall19['Days:'] == 'MTWTh')\n",
    "                           | (geodata_fall19['Days:'] == 'MTuWThFSaS')\n",
    "                             ].groupby(['Bldg:','Days:','start_time','end_time']).sum().reset_index()\n",
    "\n",
    "thursday = geodata_fall19[(geodata_fall19['Days:'] == 'TuTh') \n",
    "                          | (geodata_fall19['Days:'] == 'Th')\n",
    "                          | (geodata_fall19['Days:'] == 'MTWTh')\n",
    "                          | (geodata_fall19['Days:'] == 'MTuWThFSaS')\n",
    "                            ].groupby(['Bldg:','Days:','start_time','end_time']).sum().reset_index()\n",
    "\n",
    "friday = geodata_fall19[(geodata_fall19['Days:'] == 'WF') \n",
    "                        | (geodata_fall19['Days:'] == 'MWF')\n",
    "                        | (geodata_fall19['Days:'] == 'F')\n",
    "                        | (geodata_fall19['Days:'] == 'MTuWThFSaS')\n",
    "                          ].groupby(['Bldg:','Days:','start_time','end_time']).sum().reset_index()\n",
    "\n",
    "# friday.head(50)"
   ]
  },
  {
   "cell_type": "code",
   "execution_count": 8,
   "metadata": {
    "scrolled": true
   },
   "outputs": [],
   "source": [
    "# organize the student population in buildings, for each day of the week, by the time\n",
    "\n",
    "##################\n",
    "# should re-do this using datetime, like this: \n",
    "# start_date = datetime.strptime(str(700),\"%H%M\")\n",
    "# end_date = datetime.strptime(str(2300),\"%H%M\")\n",
    "# delta = datetime.timedelta(minutes=15)\n",
    "\n",
    "# while start_date <= end_date:\n",
    "#     monday_time[start_date] = monday[(monday['start_time'] <= start_date) \n",
    "#                                      & (monday['end_time'] >= start_date)]['Population'].sum()\n",
    "#     start_date += delta\n",
    "###################\n",
    "\n",
    "\n",
    "times = [time for time in range(700, 2300, 5) if time % (10**2) in [0, 15, 30, 45, 60]]\n",
    "\n",
    "\n",
    "monday_time = {}\n",
    "for time in times:\n",
    "    monday_time[time] = monday[(monday['start_time'] <= time) & (monday['end_time'] >= time)]['Population'].sum()\n",
    "\n",
    "tuesday_time = {}\n",
    "for time in times:\n",
    "    tuesday_time[time] = tuesday[(tuesday['start_time'] <= time) & (tuesday['end_time'] >= time)]['Population'].sum()\n",
    "    \n",
    "wednesday_time = {}\n",
    "for time in times:\n",
    "    wednesday_time[time] = wednesday[(wednesday['start_time'] <= time) & (wednesday['end_time'] >= time)]['Population'].sum()\n",
    "\n",
    "thursday_time = {}\n",
    "for time in times:\n",
    "    thursday_time[time] = thursday[(thursday['start_time'] <= time) & (thursday['end_time'] >= time)]['Population'].sum()\n",
    "    \n",
    "friday_time = {}\n",
    "for time in times:\n",
    "    friday_time[time] = friday[(friday['start_time'] <= time) & (friday['end_time'] >= time)]['Population'].sum()\n",
    "\n",
    "dict_list = [monday_time, tuesday_time, wednesday_time, thursday_time, friday_time]"
   ]
  },
  {
   "cell_type": "markdown",
   "metadata": {},
   "source": [
    "**Finally, we can make plots of the total student population to get an idea of how extended hours and/or limiting the size of courses will look with respect to student-to-student spread of COVID-19.**"
   ]
  },
  {
   "cell_type": "code",
   "execution_count": 9,
   "metadata": {},
   "outputs": [
    {
     "data": {
      "image/png": "[encoded data removed]",
      "text/plain": [
       "<Figure size 1080x288 with 1 Axes>"
      ]
     },
     "metadata": {
      "needs_background": "light"
     },
     "output_type": "display_data"
    }
   ],
   "source": [
    "import math\n",
    "\n",
    "y = []\n",
    "x = []\n",
    "\n",
    "add_on = 3000\n",
    "counter = 0\n",
    "for day in dict_list:\n",
    "    add_on = 1600*counter\n",
    "    for time in times:\n",
    "        x.append(time+add_on)\n",
    "        y.append(day[time].sum())\n",
    "    counter += 1\n",
    "\n",
    "fig = plt.figure(figsize=(15, 4))\n",
    "ax = fig.add_subplot(111)\n",
    "ax.bar(x, y, width=15)\n",
    "plt.xticks(x[::15])\n",
    "plt.ylabel('Students in class on campus')\n",
    "plt.xlabel('Time (one week)')\n",
    "plt.show()"
   ]
  },
  {
   "cell_type": "markdown",
   "metadata": {},
   "source": [
    "**Another question: what is the classroom utilization?**\n",
    "\n",
    "Consider two potential useful ways of answering this question:\n",
    "1. How often is this classroom _used_?\n",
    "2. How far below is the classroom below _maximum occupancy_?\n",
    "\n",
    "We consider the first question of how often this classroom is used.\n",
    "We performed this analysis in Excel. "
   ]
  },
  {
   "cell_type": "markdown",
   "metadata": {},
   "source": [
    "**Another question: what happens when we make sure that there is at least 30 mins between each class?**\n",
    "\n",
    "See the notebook SpreadClasses30Mins.ipynb for implementation, visualization coming. "
   ]
  }
 ],
 "metadata": {
  "kernelspec": {
   "display_name": "Python 3",
   "language": "python",
   "name": "python3"
  },
  "language_info": {
   "codemirror_mode": {
    "name": "ipython",
    "version": 3
   },
   "file_extension": ".py",
   "mimetype": "text/x-python",
   "name": "python",
   "nbconvert_exporter": "python",
   "pygments_lexer": "ipython3",
   "version": "3.8.3"
  }
 },
 "nbformat": 4,
 "nbformat_minor": 4
}
