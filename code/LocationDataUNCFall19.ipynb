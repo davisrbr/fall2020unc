{
 "cells": [
  {
   "cell_type": "markdown",
   "metadata": {},
   "source": [
    "**First, pull in the CSV I scraped from the UNC-CH course registrar pdf.**"
   ]
  },
  {
   "cell_type": "code",
   "execution_count": 1,
   "metadata": {},
   "outputs": [],
   "source": [
    "import pandas as pd\n",
    "import numpy as np\n",
    "import matplotlib.pyplot as plt"
   ]
  },
  {
   "cell_type": "code",
   "execution_count": 2,
   "metadata": {},
   "outputs": [],
   "source": [
    "fall19_courses = pd.read_csv(\"UNCfall19courses.csv\")\n",
    "\n",
    "df = fall19_courses[\"Time:\"].str.split(r'[:,-]', expand=True)\n",
    "df_start = (df[0] + df[1])\n",
    "df_end =  (df[2] + df[3])\n",
    "\n",
    "\n",
    "fall19_courses[\"start_time\"] = df_start\n",
    "fall19_courses[\"end_time\"] = df_end\n",
    "\n",
    "fall19_courses = fall19_courses.dropna(subset=['start_time'])\n",
    "fall19_courses = fall19_courses.dropna(subset=['end_time'])\n",
    "fall19_courses[\"start_time\"] = fall19_courses[\"start_time\"].astype(int)\n",
    "fall19_courses[\"end_time\"] = fall19_courses[\"end_time\"].astype(int)\n",
    "\n",
    "####### working with datetime\n",
    "# fall19_courses[\"start_time\"] = pd.to_datetime(fall19_courses[\"start_time\"].astype(int), format=\"%H%M\")\n",
    "# fall19_courses[\"end_time\"] = pd.to_datetime(fall19_courses[\"end_time\"].astype(int), format=\"%H%M\")"
   ]
  },
  {
   "cell_type": "code",
   "execution_count": 3,
   "metadata": {},
   "outputs": [
    {
     "data": {
      "text/html": [
       "<div>\n",
       "<style scoped>\n",
       "    .dataframe tbody tr th:only-of-type {\n",
       "        vertical-align: middle;\n",
       "    }\n",
       "\n",
       "    .dataframe tbody tr th {\n",
       "        vertical-align: top;\n",
       "    }\n",
       "\n",
       "    .dataframe thead th {\n",
       "        text-align: right;\n",
       "    }\n",
       "</style>\n",
       "<table border=\"1\" class=\"dataframe\">\n",
       "  <thead>\n",
       "    <tr style=\"text-align: right;\">\n",
       "      <th></th>\n",
       "      <th></th>\n",
       "      <th>Bldg:</th>\n",
       "      <th>Room:</th>\n",
       "      <th>Days:</th>\n",
       "      <th>Time:</th>\n",
       "      <th>Class Enrl Tot:</th>\n",
       "      <th>start_time</th>\n",
       "      <th>end_time</th>\n",
       "    </tr>\n",
       "  </thead>\n",
       "  <tbody>\n",
       "    <tr>\n",
       "      <th rowspan=\"5\" valign=\"top\">AAAD</th>\n",
       "      <th>130</th>\n",
       "      <td>Gardner</td>\n",
       "      <td>0308</td>\n",
       "      <td>TuTh</td>\n",
       "      <td>12:30 - 13:45</td>\n",
       "      <td>43</td>\n",
       "      <td>1230</td>\n",
       "      <td>1345</td>\n",
       "    </tr>\n",
       "    <tr>\n",
       "      <th>130</th>\n",
       "      <td>Phillips</td>\n",
       "      <td>0247</td>\n",
       "      <td>TuTh</td>\n",
       "      <td>09:30 - 10:45</td>\n",
       "      <td>42</td>\n",
       "      <td>930</td>\n",
       "      <td>1045</td>\n",
       "    </tr>\n",
       "    <tr>\n",
       "      <th>130</th>\n",
       "      <td>Peabody</td>\n",
       "      <td>0311</td>\n",
       "      <td>TuTh</td>\n",
       "      <td>14:00 - 15:15</td>\n",
       "      <td>43</td>\n",
       "      <td>1400</td>\n",
       "      <td>1515</td>\n",
       "    </tr>\n",
       "    <tr>\n",
       "      <th>200</th>\n",
       "      <td>Peabody</td>\n",
       "      <td>0306</td>\n",
       "      <td>TuTh</td>\n",
       "      <td>14:00 - 15:15</td>\n",
       "      <td>36</td>\n",
       "      <td>1400</td>\n",
       "      <td>1515</td>\n",
       "    </tr>\n",
       "    <tr>\n",
       "      <th>201</th>\n",
       "      <td>Carolina Hall</td>\n",
       "      <td>0220</td>\n",
       "      <td>MWF</td>\n",
       "      <td>08:00 - 08:50</td>\n",
       "      <td>32</td>\n",
       "      <td>800</td>\n",
       "      <td>850</td>\n",
       "    </tr>\n",
       "  </tbody>\n",
       "</table>\n",
       "</div>"
      ],
      "text/plain": [
       "                   Bldg: Room: Days:          Time:  Class Enrl Tot:  \\\n",
       "AAAD  130        Gardner  0308  TuTh  12:30 - 13:45               43   \n",
       "      130       Phillips  0247  TuTh  09:30 - 10:45               42   \n",
       "      130        Peabody  0311  TuTh  14:00 - 15:15               43   \n",
       "      200        Peabody  0306  TuTh  14:00 - 15:15               36   \n",
       "      201  Carolina Hall  0220   MWF  08:00 - 08:50               32   \n",
       "\n",
       "           start_time  end_time  \n",
       "AAAD  130        1230      1345  \n",
       "      130         930      1045  \n",
       "      130        1400      1515  \n",
       "      200        1400      1515  \n",
       "      201         800       850  "
      ]
     },
     "execution_count": 3,
     "metadata": {},
     "output_type": "execute_result"
    }
   ],
   "source": [
    "fall19_courses = fall19_courses[fall19_courses['Bldg:']!='TBA']\n",
    "fall19_courses = fall19_courses[fall19_courses['Days:']!='TBA']\n",
    "# print(fall19_courses.count())\n",
    "fall19_courses.head()\n"
   ]
  },
  {
   "cell_type": "markdown",
   "metadata": {},
   "source": [
    "**Optional: remove classes with over 50 or over 100 students.**"
   ]
  },
  {
   "cell_type": "code",
   "execution_count": 4,
   "metadata": {},
   "outputs": [
    {
     "name": "stdout",
     "output_type": "stream",
     "text": [
      "Courses with more than 100 students: 0\n",
      "Courses with more than 50 students: 0\n"
     ]
    }
   ],
   "source": [
    "fall19_courses = fall19_courses[fall19_courses['Class Enrl Tot:'] < 100]\n",
    "fall19_courses = fall19_courses[fall19_courses['Class Enrl Tot:'] < 50]\n",
    "print(f'Courses with more than 100 students: {fall19_courses[fall19_courses[\"Class Enrl Tot:\"] > 99].count()[0]}')\n",
    "print(f'Courses with more than 50 students: {fall19_courses[fall19_courses[\"Class Enrl Tot:\"] > 49].count()[0]}')"
   ]
  },
  {
   "cell_type": "markdown",
   "metadata": {},
   "source": [
    "**Optional: reorganize classes so that they are more distributed throughout the day (i.e. add weeknight classes). Sample between classes between 1100 (11:00) and 1459 (2:59) and, conditional on the classes being less than 1.5 hours, sample 1/4 of these courses, and move the 1100 to 800 and for the others add five hours**\n",
    "\n"
   ]
  },
  {
   "cell_type": "code",
   "execution_count": 5,
   "metadata": {
    "scrolled": true
   },
   "outputs": [],
   "source": [
    "\n",
    "# sample_courses = fall19_courses.loc[fall19_courses['start_time'].isin(samp_times) & \n",
    "#                    (fall19_courses['end_time']-fall19_courses['start_time']<151)]['Room:'].count()\n",
    "\n",
    "\n",
    "# sample_df = fall19_courses[fall19_courses['start_time'].isin(samp_times) & \n",
    "#                    (fall19_courses['end_time']-fall19_courses['start_time']<151)].sample(n=sample_courses//3)\n",
    "\n",
    "########################################################################################\n",
    "\n",
    "for index, row in fall19_courses.iterrows():\n",
    "    if 1100 <= row['start_time'] <=1459 and (row['end_time']-row['start_time']<151):\n",
    "        if np.random.randint(1,5) == 3:\n",
    "            if row['start_time'] == 1100:\n",
    "                fall19_courses.at[index,'start_time'] = row['start_time'] - 300\n",
    "                fall19_courses.at[index,'end_time'] = row['end_time'] - 300\n",
    "                \n",
    "            else:   \n",
    "                fall19_courses.at[index,'start_time'] = row['start_time'] + 500\n",
    "                fall19_courses.at[index,'end_time'] = row['end_time'] + 500\n",
    "\n",
    "# save to csv\n",
    "# fall19_courses.to_csv('UNCfall19coursesReorg.csv')\n",
    "########################################################################################\n"
   ]
  },
  {
   "cell_type": "markdown",
   "metadata": {},
   "source": [
    "**Make initial summation with a groupby.**\n",
    "\n",
    "Return a random sample of rows from the dataframe to check results."
   ]
  },
  {
   "cell_type": "code",
   "execution_count": 6,
   "metadata": {
    "scrolled": true
   },
   "outputs": [
    {
     "data": {
      "text/html": [
       "<div>\n",
       "<style scoped>\n",
       "    .dataframe tbody tr th:only-of-type {\n",
       "        vertical-align: middle;\n",
       "    }\n",
       "\n",
       "    .dataframe tbody tr th {\n",
       "        vertical-align: top;\n",
       "    }\n",
       "\n",
       "    .dataframe thead th {\n",
       "        text-align: right;\n",
       "    }\n",
       "</style>\n",
       "<table border=\"1\" class=\"dataframe\">\n",
       "  <thead>\n",
       "    <tr style=\"text-align: right;\">\n",
       "      <th></th>\n",
       "      <th>Bldg:</th>\n",
       "      <th>Days:</th>\n",
       "      <th>start_time</th>\n",
       "      <th>end_time</th>\n",
       "      <th>Population</th>\n",
       "    </tr>\n",
       "  </thead>\n",
       "  <tbody>\n",
       "    <tr>\n",
       "      <th>1451</th>\n",
       "      <td>Phillips</td>\n",
       "      <td>M</td>\n",
       "      <td>1730</td>\n",
       "      <td>1820</td>\n",
       "      <td>145</td>\n",
       "    </tr>\n",
       "    <tr>\n",
       "      <th>652</th>\n",
       "      <td>Global Center</td>\n",
       "      <td>TuTh</td>\n",
       "      <td>1900</td>\n",
       "      <td>2015</td>\n",
       "      <td>25</td>\n",
       "    </tr>\n",
       "    <tr>\n",
       "      <th>792</th>\n",
       "      <td>Hamilton Hall</td>\n",
       "      <td>Tu</td>\n",
       "      <td>1530</td>\n",
       "      <td>1800</td>\n",
       "      <td>14</td>\n",
       "    </tr>\n",
       "    <tr>\n",
       "      <th>17</th>\n",
       "      <td>Alumni</td>\n",
       "      <td>M</td>\n",
       "      <td>1615</td>\n",
       "      <td>1705</td>\n",
       "      <td>113</td>\n",
       "    </tr>\n",
       "    <tr>\n",
       "      <th>1453</th>\n",
       "      <td>Phillips</td>\n",
       "      <td>MTuWTh</td>\n",
       "      <td>1605</td>\n",
       "      <td>1655</td>\n",
       "      <td>36</td>\n",
       "    </tr>\n",
       "    <tr>\n",
       "      <th>688</th>\n",
       "      <td>Graham Memorial</td>\n",
       "      <td>TuTh</td>\n",
       "      <td>800</td>\n",
       "      <td>915</td>\n",
       "      <td>18</td>\n",
       "    </tr>\n",
       "    <tr>\n",
       "      <th>737</th>\n",
       "      <td>Greenlaw</td>\n",
       "      <td>TuTh</td>\n",
       "      <td>1700</td>\n",
       "      <td>1815</td>\n",
       "      <td>26</td>\n",
       "    </tr>\n",
       "    <tr>\n",
       "      <th>758</th>\n",
       "      <td>Hamilton Hall</td>\n",
       "      <td>F</td>\n",
       "      <td>1720</td>\n",
       "      <td>1810</td>\n",
       "      <td>115</td>\n",
       "    </tr>\n",
       "    <tr>\n",
       "      <th>579</th>\n",
       "      <td>Genome Sciences Buil</td>\n",
       "      <td>F</td>\n",
       "      <td>1930</td>\n",
       "      <td>2020</td>\n",
       "      <td>37</td>\n",
       "    </tr>\n",
       "    <tr>\n",
       "      <th>618</th>\n",
       "      <td>Genome Sciences Buil</td>\n",
       "      <td>TuTh</td>\n",
       "      <td>1900</td>\n",
       "      <td>2015</td>\n",
       "      <td>13</td>\n",
       "    </tr>\n",
       "  </tbody>\n",
       "</table>\n",
       "</div>"
      ],
      "text/plain": [
       "                     Bldg:   Days:  start_time  end_time  Population\n",
       "1451              Phillips       M        1730      1820         145\n",
       "652          Global Center    TuTh        1900      2015          25\n",
       "792          Hamilton Hall      Tu        1530      1800          14\n",
       "17                  Alumni       M        1615      1705         113\n",
       "1453              Phillips  MTuWTh        1605      1655          36\n",
       "688        Graham Memorial    TuTh         800       915          18\n",
       "737               Greenlaw    TuTh        1700      1815          26\n",
       "758          Hamilton Hall       F        1720      1810         115\n",
       "579   Genome Sciences Buil       F        1930      2020          37\n",
       "618   Genome Sciences Buil    TuTh        1900      2015          13"
      ]
     },
     "execution_count": 6,
     "metadata": {},
     "output_type": "execute_result"
    }
   ],
   "source": [
    "geodata_fall19 = fall19_courses.groupby(['Bldg:','Days:','start_time','end_time'])['Class Enrl Tot:'].sum().reset_index(name ='Population')\n",
    "\n",
    "# geodata_fall19[geodata_fall19['Bldg:']=='Phillips']\n",
    "\n",
    "geodata_fall19.sample(n=10, random_state=0)\n"
   ]
  },
  {
   "cell_type": "markdown",
   "metadata": {},
   "source": [
    "**We still need to group the rows by days of the week (M, T, W, Th, F) and put into regular time intervals.**\n",
    "\n",
    "Note: I include a groupby to ignore cross listed courses so we avoid double counting these courses. However, this would also remove labs that are listed in the same classroom but actually take place in a laboratory building."
   ]
  },
  {
   "cell_type": "code",
   "execution_count": 8,
   "metadata": {
    "scrolled": true
   },
   "outputs": [],
   "source": [
    "# organize by day of week into separate day names\n",
    "\n",
    "monday = geodata_fall19[(geodata_fall19['Days:'].str.contains('M'))\n",
    "                               ].groupby(['Bldg:','Days:','start_time', 'end_time']\n",
    "                                   ).sum().reset_index()\n",
    "\n",
    "tuesday = geodata_fall19[(geodata_fall19['Days:'].str.contains('Tu'))\n",
    "                               ].groupby(['Bldg:','Days:','start_time', 'end_time']\n",
    "                                   ).sum().reset_index()\n",
    "\n",
    "\n",
    "wednesday = geodata_fall19[(geodata_fall19['Days:'].str.contains('W'))\n",
    "                               ].groupby(['Bldg:','Days:','start_time', 'end_time']\n",
    "                                   ).sum().reset_index()\n",
    "\n",
    "thursday = geodata_fall19[(geodata_fall19['Days:'].str.contains('Th'))\n",
    "                               ].groupby(['Bldg:','Days:','start_time', 'end_time']\n",
    "                                   ).sum().reset_index()\n",
    "\n",
    "friday = geodata_fall19[(geodata_fall19['Days:'].str.contains('F'))\n",
    "                               ].groupby(['Bldg:','Days:','start_time', 'end_time']\n",
    "                                   ).sum().reset_index()\n",
    "\n",
    "# friday.head(50)"
   ]
  },
  {
   "cell_type": "code",
   "execution_count": 9,
   "metadata": {
    "scrolled": true
   },
   "outputs": [],
   "source": [
    "# organize the student population in buildings, for each day of the week, by the time\n",
    "\n",
    "##################\n",
    "# should re-do this using datetime, like this: \n",
    "# start_date = datetime.strptime(str(700),\"%H%M\")\n",
    "# end_date = datetime.strptime(str(2300),\"%H%M\")\n",
    "# delta = datetime.timedelta(minutes=15)\n",
    "\n",
    "# while start_date <= end_date:\n",
    "#     monday_time[start_date] = monday[(monday['start_time'] <= start_date) \n",
    "#                                      & (monday['end_time'] >= start_date)]['Population'].sum()\n",
    "#     start_date += delta\n",
    "###################\n",
    "\n",
    "\n",
    "times = [time for time in range(700, 2300, 5) if time % (10**2) in [0, 15, 30, 45, 60]]\n",
    "\n",
    "\n",
    "monday_time = {}\n",
    "for time in times:\n",
    "    monday_time[time] = monday[(monday['start_time'] <= time) & (monday['end_time'] >= time)]['Population'].sum()\n",
    "\n",
    "tuesday_time = {}\n",
    "for time in times:\n",
    "    tuesday_time[time] = tuesday[(tuesday['start_time'] <= time) & (tuesday['end_time'] >= time)]['Population'].sum()\n",
    "    \n",
    "wednesday_time = {}\n",
    "for time in times:\n",
    "    wednesday_time[time] = wednesday[(wednesday['start_time'] <= time) & (wednesday['end_time'] >= time)]['Population'].sum()\n",
    "\n",
    "thursday_time = {}\n",
    "for time in times:\n",
    "    thursday_time[time] = thursday[(thursday['start_time'] <= time) & (thursday['end_time'] >= time)]['Population'].sum()\n",
    "    \n",
    "friday_time = {}\n",
    "for time in times:\n",
    "    friday_time[time] = friday[(friday['start_time'] <= time) & (friday['end_time'] >= time)]['Population'].sum()\n",
    "\n",
    "dict_list = [monday_time, tuesday_time, wednesday_time, thursday_time, friday_time]"
   ]
  },
  {
   "cell_type": "markdown",
   "metadata": {},
   "source": [
    "**Finally, we can make plots of the total student population to get an idea of how extended hours and/or limiting the size of courses will look with respect to student-to-student spread of COVID-19.**"
   ]
  },
  {
   "cell_type": "code",
   "execution_count": 10,
   "metadata": {},
   "outputs": [
    {
     "data": {
      "image/png": "[encoded data removed]",
      "text/plain": [
       "<Figure size 1080x288 with 1 Axes>"
      ]
     },
     "metadata": {
      "needs_background": "light"
     },
     "output_type": "display_data"
    }
   ],
   "source": [
    "import math\n",
    "\n",
    "y = []\n",
    "x = []\n",
    "\n",
    "add_on = 3000\n",
    "counter = 0\n",
    "for day in dict_list:\n",
    "    add_on = 1600*counter\n",
    "    for time in times:\n",
    "        x.append(time+add_on)\n",
    "        y.append(day[time].sum())\n",
    "    counter += 1\n",
    "\n",
    "fig = plt.figure(figsize=(15, 4))\n",
    "ax = fig.add_subplot(111)\n",
    "ax.bar(x, y, width=15)\n",
    "plt.xticks(x[::15])\n",
    "plt.ylabel('Students in class on campus')\n",
    "plt.xlabel('Time (one week)')\n",
    "plt.show()"
   ]
  },
  {
   "cell_type": "markdown",
   "metadata": {},
   "source": [
    "**Another question: what is the classroom utilization?**\n",
    "\n",
    "Consider two potential useful ways of answering this question:\n",
    "1. How often is this classroom _used_?\n",
    "2. How far below is the classroom below _maximum occupancy_?\n",
    "\n",
    "We consider the first question of how often this classroom is used.\n",
    "We performed this analysis in Excel. "
   ]
  },
  {
   "cell_type": "markdown",
   "metadata": {},
   "source": [
    "**Another question: what happens when we make sure that there is at least 30 mins between each class?**\n",
    "\n",
    "See the notebook SpreadClasses30Mins.ipynb for implementation, visualization coming. "
   ]
  }
 ],
 "metadata": {
  "kernelspec": {
   "display_name": "Python 3",
   "language": "python",
   "name": "python3"
  },
  "language_info": {
   "codemirror_mode": {
    "name": "ipython",
    "version": 3
   },
   "file_extension": ".py",
   "mimetype": "text/x-python",
   "name": "python",
   "nbconvert_exporter": "python",
   "pygments_lexer": "ipython3",
   "version": "3.8.3"
  }
 },
 "nbformat": 4,
 "nbformat_minor": 4
}
